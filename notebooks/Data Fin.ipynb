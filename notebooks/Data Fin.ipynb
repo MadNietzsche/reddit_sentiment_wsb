{
 "cells": [
  {
   "cell_type": "code",
   "execution_count": 247,
   "id": "fcd4dce3-9f85-49c5-96fa-1f1ea0ed9e20",
   "metadata": {},
   "outputs": [],
   "source": [
    "import requests # take the website source code back to you\n",
    "import pandas as pd # process structured dat save_path = 'output/' \n",
    "from io import StringIO\n",
    "import csv\n",
    "import time\n",
    "import datetime\n",
    "from datetime import timezone\n",
    "import csv"
   ]
  },
  {
   "cell_type": "code",
   "execution_count": 248,
   "id": "034b9851-e02c-4370-ac3f-d9a95a5a9d54",
   "metadata": {
    "tags": []
   },
   "outputs": [
    {
     "data": {
      "text/plain": [
       "1685053610.7590144"
      ]
     },
     "execution_count": 248,
     "metadata": {},
     "output_type": "execute_result"
    }
   ],
   "source": [
    "time.time()"
   ]
  },
  {
   "cell_type": "code",
   "execution_count": 249,
   "id": "cb557ffe-7a17-46fb-884c-9df395280755",
   "metadata": {
    "tags": []
   },
   "outputs": [
    {
     "name": "stdout",
     "output_type": "stream",
     "text": [
      "The timestamp for the date 06-07-2022 is: 1630368000.0\n"
     ]
    }
   ],
   "source": [
    "dt = datetime.datetime(2021, 8, 31)\n",
    "timestamp = dt.replace(tzinfo=timezone.utc).timestamp()\n",
    "print(\"The timestamp for the date 06-07-2022 is:\",timestamp)"
   ]
  },
  {
   "cell_type": "code",
   "execution_count": 251,
   "id": "9a936da2-238c-4417-bce6-c2866ea98e37",
   "metadata": {
    "tags": []
   },
   "outputs": [],
   "source": [
    "stocks = [\"AMC\", \"GME\"]\n",
    "names = locals()\n",
    "stock_url = 'https://query1.finance.yahoo.com/v7/finance/download/{}?'\n",
    "params = {'period1' : '1601510400',\n",
    "          'period2' : '1630368000',\n",
    "          'interval' : '1d',\n",
    "          'events' : 'history',\n",
    "          'includeAdjustedClose' : 'true'\n",
    "         }\n",
    "\n",
    "for stock in stocks: \n",
    "    response = requests.get(stock_url.format(stock), headers=headers, params=params)\n",
    "    file = StringIO(response.text)\n",
    "    #reader = csv.reader(file) \n",
    "    data = pd.read_csv(file)\n",
    "    data.to_csv(\"result_\"+stock+\".csv\")\n"
   ]
  }
 ],
 "metadata": {
  "kernelspec": {
   "display_name": "Python 3 (ipykernel)",
   "language": "python",
   "name": "python3"
  },
  "language_info": {
   "codemirror_mode": {
    "name": "ipython",
    "version": 3
   },
   "file_extension": ".py",
   "mimetype": "text/x-python",
   "name": "python",
   "nbconvert_exporter": "python",
   "pygments_lexer": "ipython3",
   "version": "3.10.10"
  }
 },
 "nbformat": 4,
 "nbformat_minor": 5
}
