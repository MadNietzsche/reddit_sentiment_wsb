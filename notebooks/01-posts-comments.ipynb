{
 "cells": [
  {
   "cell_type": "code",
   "execution_count": 22,
   "metadata": {
    "collapsed": true
   },
   "outputs": [],
   "source": [
    "import pandas as pd\n",
    "import praw\n",
    "import yaml\n",
    "from praw.models import MoreComments\n",
    "from yaml.loader import SafeLoader\n",
    "\n",
    "with open('../config-personal.yml') as f:\n",
    "    config = yaml.load(f, Loader=SafeLoader)\n",
    "\n",
    "reddit = praw.Reddit(\n",
    "    client_id=config['reddit']['client_id'],\n",
    "    client_secret=config['reddit']['secret'],\n",
    "    user_agent=f\"testscript by u/{config['reddit']['user_name']}\",\n",
    ")\n",
    "\n",
    "df = pd.read_csv('../data/wallstreetbets.zip')\n"
   ]
  },
  {
   "cell_type": "code",
   "execution_count": 12,
   "outputs": [
    {
     "name": "stdout",
     "output_type": "stream",
     "text": [
      "<class 'pandas.core.frame.DataFrame'>\n",
      "RangeIndex: 53187 entries, 0 to 53186\n",
      "Data columns (total 8 columns):\n",
      " #   Column     Non-Null Count  Dtype  \n",
      "---  ------     --------------  -----  \n",
      " 0   title      53187 non-null  object \n",
      " 1   score      53187 non-null  int64  \n",
      " 2   id         53187 non-null  object \n",
      " 3   url        53187 non-null  object \n",
      " 4   comms_num  53187 non-null  int64  \n",
      " 5   created    53187 non-null  float64\n",
      " 6   body       24738 non-null  object \n",
      " 7   timestamp  53187 non-null  object \n",
      "dtypes: float64(1), int64(2), object(5)\n",
      "memory usage: 3.2+ MB\n"
     ]
    }
   ],
   "source": [
    "df.info( )"
   ],
   "metadata": {
    "collapsed": false
   }
  },
  {
   "cell_type": "code",
   "execution_count": 19,
   "outputs": [
    {
     "data": {
      "text/plain": "title        It's not about the money, it's about sending a...\nscore                                                       55\nid                                                      l6ulcx\nurl                            https://v.redd.it/6j75regs72e61\ncomms_num                                                    6\ncreated                                           1611862661.0\nbody                                                       NaN\ntimestamp                                  2021-01-28 21:37:41\nName: 0, dtype: object"
     },
     "execution_count": 19,
     "metadata": {},
     "output_type": "execute_result"
    }
   ],
   "source": [
    "first_row = df.head(1).iloc[0,:]\n",
    "first_row"
   ],
   "metadata": {
    "collapsed": false
   }
  },
  {
   "cell_type": "code",
   "execution_count": 20,
   "outputs": [],
   "source": [
    "submission = reddit.submission(first_row.id)"
   ],
   "metadata": {
    "collapsed": false
   }
  },
  {
   "cell_type": "code",
   "execution_count": 26,
   "outputs": [],
   "source": [
    "comment_ls = []\n",
    "for top_level_comment in submission.comments:\n",
    "    if isinstance(top_level_comment, MoreComments):\n",
    "        continue\n",
    "    comment_ls.append(top_level_comment.body)"
   ],
   "metadata": {
    "collapsed": false
   }
  },
  {
   "cell_type": "code",
   "execution_count": 28,
   "outputs": [
    {
     "data": {
      "text/plain": "['yeah just hope everyone deletes their 420 limits. 1000 IS NOT A JOKE',\n 'The video is pretty but I cant fucking read',\n 'It’s not about the money, it’s about a shitload of money.',\n \"$10000 here we come boys and gals. Let's drain their bank accounts like they've done to us all these years.\",\n '[deleted]']"
     },
     "execution_count": 28,
     "metadata": {},
     "output_type": "execute_result"
    }
   ],
   "source": [
    "comment_ls[0:5]"
   ],
   "metadata": {
    "collapsed": false
   }
  },
  {
   "cell_type": "code",
   "execution_count": 31,
   "outputs": [],
   "source": [
    "comment_dict = {'id_col': [], 'comments': []}\n",
    "id_ls = df.loc[:,'id'].tolist()\n",
    "id_test = id_ls[0:4]\n",
    "\n",
    "for post_id in id_test:\n",
    "    comment_ls = []\n",
    "    post = reddit.submission(post_id)\n",
    "    for top_level_comment in post.comments:\n",
    "        if isinstance(top_level_comment, MoreComments):\n",
    "            continue\n",
    "        comment_ls.append(top_level_comment.body)\n",
    "\n",
    "    comment_dict['id_col'].extend([post_id]*len(comment_ls))\n",
    "    comment_dict['comments'].extend(comment_ls)"
   ],
   "metadata": {
    "collapsed": false
   }
  },
  {
   "cell_type": "code",
   "execution_count": 34,
   "outputs": [
    {
     "data": {
      "text/plain": "   id_col                                           comments\n0  l6ulcx  yeah just hope everyone deletes their 420 limi...\n1  l6ulcx        The video is pretty but I cant fucking read\n2  l6ulcx  It’s not about the money, it’s about a shitloa...\n3  l6ulcx  $10000 here we come boys and gals. Let's drain...\n4  l6ulcx                                          [deleted]",
      "text/html": "<div>\n<style scoped>\n    .dataframe tbody tr th:only-of-type {\n        vertical-align: middle;\n    }\n\n    .dataframe tbody tr th {\n        vertical-align: top;\n    }\n\n    .dataframe thead th {\n        text-align: right;\n    }\n</style>\n<table border=\"1\" class=\"dataframe\">\n  <thead>\n    <tr style=\"text-align: right;\">\n      <th></th>\n      <th>id_col</th>\n      <th>comments</th>\n    </tr>\n  </thead>\n  <tbody>\n    <tr>\n      <th>0</th>\n      <td>l6ulcx</td>\n      <td>yeah just hope everyone deletes their 420 limi...</td>\n    </tr>\n    <tr>\n      <th>1</th>\n      <td>l6ulcx</td>\n      <td>The video is pretty but I cant fucking read</td>\n    </tr>\n    <tr>\n      <th>2</th>\n      <td>l6ulcx</td>\n      <td>It’s not about the money, it’s about a shitloa...</td>\n    </tr>\n    <tr>\n      <th>3</th>\n      <td>l6ulcx</td>\n      <td>$10000 here we come boys and gals. Let's drain...</td>\n    </tr>\n    <tr>\n      <th>4</th>\n      <td>l6ulcx</td>\n      <td>[deleted]</td>\n    </tr>\n  </tbody>\n</table>\n</div>"
     },
     "execution_count": 34,
     "metadata": {},
     "output_type": "execute_result"
    }
   ],
   "source": [
    "pd.DataFrame(comment_dict).head(5)"
   ],
   "metadata": {
    "collapsed": false
   }
  },
  {
   "cell_type": "markdown",
   "source": [
    "It works! Now do it for all comments."
   ],
   "metadata": {
    "collapsed": false
   }
  }
 ],
 "metadata": {
  "kernelspec": {
   "display_name": "Python 3",
   "language": "python",
   "name": "python3"
  },
  "language_info": {
   "codemirror_mode": {
    "name": "ipython",
    "version": 2
   },
   "file_extension": ".py",
   "mimetype": "text/x-python",
   "name": "python",
   "nbconvert_exporter": "python",
   "pygments_lexer": "ipython2",
   "version": "2.7.6"
  }
 },
 "nbformat": 4,
 "nbformat_minor": 0
}
