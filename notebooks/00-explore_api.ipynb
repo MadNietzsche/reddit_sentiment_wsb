{
 "cells": [
  {
   "cell_type": "markdown",
   "source": [
    "# First exploration of the Reddit API"
   ],
   "metadata": {
    "collapsed": false
   }
  },
  {
   "cell_type": "markdown",
   "source": [
    "There is already a Reddit API parser in Python called [PRAW](https://praw.readthedocs.io/en/latest/). The requirements to use it are outlined [here](https://praw.readthedocs.io/en/latest/getting_started/quick_start.html).\n",
    "\n",
    "For our use case, we only need read-only access, which requires getting a client id, a client secret and a user agent. They are all hidden from the repo but anyone interested could set up theirs with a file like *config-personal.yml* and use reproduce this notebook."
   ],
   "metadata": {
    "collapsed": false
   }
  },
  {
   "cell_type": "code",
   "execution_count": 5,
   "metadata": {
    "collapsed": true
   },
   "outputs": [],
   "source": [
    "import pandas as pd\n",
    "import praw\n",
    "from pmaw import PushshiftAPI\n",
    "import yaml\n",
    "import pendulum\n",
    "from yaml.loader import SafeLoader\n",
    "from praw.models import MoreComments\n",
    "\n",
    "with open('../config-personal.yml') as f:\n",
    "    config = yaml.load(f, Loader=SafeLoader)\n",
    "\n",
    "reddit = praw.Reddit(\n",
    "    client_id=config['reddit']['client_id'],\n",
    "    client_secret=config['reddit']['secret'],\n",
    "    user_agent=f\"testscript by u/{config['reddit']['user_name']}\",\n",
    ")\n",
    "\n",
    "subreddit = reddit.subreddit(\"wallstreetbets\")"
   ]
  },
  {
   "cell_type": "code",
   "execution_count": 31,
   "outputs": [
    {
     "name": "stderr",
     "output_type": "stream",
     "text": [
      "Not all PushShift shards are active. Query results may be incomplete.\n"
     ]
    }
   ],
   "source": [
    "api = PushshiftAPI(praw=reddit)\n",
    "gen = api.search_comments(since=int(pendulum.from_format('2021-01-30', 'YYYY-MM-DD').timestamp()),\n",
    "                             until=int(pendulum.from_format('2021-01-30', 'YYYY-MM-DD').timestamp()),\n",
    "                             subreddit='wallstreetbets', size=100)"
   ],
   "metadata": {
    "collapsed": false
   }
  },
  {
   "cell_type": "code",
   "execution_count": 6,
   "outputs": [
    {
     "name": "stdout",
     "output_type": "stream",
     "text": [
      "What Are Your Moves Tomorrow, May 15, 2023\n",
      "17\n",
      "13hlqjx\n",
      "https://www.reddit.com/r/wallstreetbets/comments/13hlqjx/what_are_your_moves_tomorrow_may_15_2023/\n",
      "Loud and Clear 😬\n",
      "15410\n",
      "13hfoas\n",
      "https://i.redd.it/09sklqvv0vza1.jpg\n",
      "I will integrate AI into my personal life\n",
      "1089\n",
      "13hdqkb\n",
      "https://i.redd.it/5y1wbngnmuza1.jpg\n",
      "if a company says ai it goes 🚀🚀🚀🚀🚀🚀🚀\n",
      "693\n",
      "13hf9hv\n",
      "https://i.redd.it/2ngrpr9bgtza1.png\n",
      "Debt Ceiling with Rising Rates, No Problem ! 🎪\n",
      "422\n",
      "13hg8n8\n",
      "https://i.redd.it/dd7uzm8dntza1.png\n",
      "Risk management king. Catch me behind the Wendys.\n",
      "114\n",
      "13hk8g8\n",
      "https://i.redd.it/e3nt5di7yvza1.jpg\n",
      "Gang gang.\n",
      "93\n",
      "13hkxqn\n",
      "https://i.redd.it/znlijptg3wza1.jpg\n",
      "Genuine question, what do all of you do for work that you’re fine with having $5k weekly loss porn\n",
      "121\n",
      "13hh9fp\n",
      "https://www.reddit.com/r/wallstreetbets/comments/13hh9fp/genuine_question_what_do_all_of_you_do_for_work/\n",
      "spotted in the wild\n",
      "4752\n",
      "13gt82e\n",
      "https://i.redd.it/c6czsedtjpza1.jpg\n",
      "I’m in a toxic relationship\n",
      "108\n",
      "13hdwex\n",
      "https://i.redd.it/zqzsgvstnuza1.jpg\n"
     ]
    }
   ],
   "source": [
    "for submission in subreddit.hot(limit=10):\n",
    "    print(submission.title)\n",
    "    # Output: the submission's title\n",
    "    print(submission.score)\n",
    "    # Output: the submission's score\n",
    "    print(submission.id)\n",
    "    # Output: the submission's ID\n",
    "    print(submission.url)"
   ],
   "metadata": {
    "collapsed": false
   }
  },
  {
   "cell_type": "code",
   "execution_count": 7,
   "outputs": [
    {
     "name": "stdout",
     "output_type": "stream",
     "text": [
      "What Are Your Moves Tomorrow, May 15, 2023\n",
      "Loud and Clear 😬\n",
      "I will integrate AI into my personal life\n",
      "if a company says ai it goes 🚀🚀🚀🚀🚀🚀🚀\n",
      "Debt Ceiling with Rising Rates, No Problem ! 🎪\n",
      "Risk management king. Catch me behind the Wendys.\n",
      "Gang gang.\n",
      "Genuine question, what do all of you do for work that you’re fine with having $5k weekly loss porn\n",
      "spotted in the wild\n",
      "I’m in a toxic relationship\n"
     ]
    }
   ],
   "source": [
    "post_title = []\n",
    "post_comments = []\n",
    "\n",
    "for submission in subreddit.hot(limit=10):\n",
    "    print(submission.title)\n",
    "    submission.comments.replace_more(limit=None)\n",
    "    for comment in submission.comments.list():\n",
    "         post_title.append(submission.title)\n",
    "         post_comments.append(comment.body)"
   ],
   "metadata": {
    "collapsed": false
   }
  },
  {
   "cell_type": "code",
   "execution_count": 8,
   "outputs": [],
   "source": [
    "df = pd.DataFrame({'title': post_title, 'comments': post_comments})"
   ],
   "metadata": {
    "collapsed": false
   }
  },
  {
   "cell_type": "markdown",
   "source": [
    "Due to new changes on Reddit API terms of services on May 1st 2023, [it is no longer available to search posts or comments by date](https://old.reddit.com/r/RedditAPIAdvocacy/comments/13esznz/reddit_has_cut_off_historical_data_access_help_us/). Hence, in order to cut for time and convenience, it is more feasible to use an already sourced dataframe for our research topic."
   ],
   "metadata": {
    "collapsed": false
   }
  }
 ],
 "metadata": {
  "kernelspec": {
   "display_name": "Python 3",
   "language": "python",
   "name": "python3"
  },
  "language_info": {
   "codemirror_mode": {
    "name": "ipython",
    "version": 2
   },
   "file_extension": ".py",
   "mimetype": "text/x-python",
   "name": "python",
   "nbconvert_exporter": "python",
   "pygments_lexer": "ipython2",
   "version": "2.7.6"
  }
 },
 "nbformat": 4,
 "nbformat_minor": 0
}
